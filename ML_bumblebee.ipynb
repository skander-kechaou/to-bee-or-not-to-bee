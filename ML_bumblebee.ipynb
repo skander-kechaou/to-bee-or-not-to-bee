{
 "cells": [
  {
   "cell_type": "markdown",
   "id": "7fd3a9d3",
   "metadata": {},
   "source": [
    "# Machine Learning Project : To bee or not to bee\n",
    "___"
   ]
  },
  {
   "cell_type": "markdown",
   "id": "6fe442a3",
   "metadata": {},
   "source": [
    "## 1. Business Understanding"
   ]
  },
  {
   "cell_type": "markdown",
   "id": "07368108",
   "metadata": {},
   "source": [
    "* Context : Pollinator insects such as bees and bumblebees are important for ecosystems diversity and by fertilizing flowers, they play a vital role in the global food chain system.\n",
    "* Problem : Distinguishing bee types amongst pollinators is crucial in this context and traditional methods which are mostly manual are quite time-consuming especially with our dataset of 250 images, although it might be less prone to error\n",
    "* Solution : This project aims to leverage Machine Learning (ML), Deep Learning and Ai & Optimization techniques to automate the identification process by looking at an image (and its mask) and recognize the bug type and in a later time its species.\n",
    "* Stakeholders : This project would interest more than one amongst researches, within the agricultural sector as well as for educational purposes."
   ]
  },
  {
   "cell_type": "markdown",
   "id": "75890b90",
   "metadata": {},
   "source": [
    "Now that we're well versed in the subject of this project we can get into the technicalities"
   ]
  },
  {
   "cell_type": "markdown",
   "id": "6adca6cc",
   "metadata": {},
   "source": [
    "## 2. Data Understanding"
   ]
  },
  {
   "cell_type": "code",
   "execution_count": 3,
   "id": "b78f79af",
   "metadata": {},
   "outputs": [],
   "source": [
    "# We need to import the necessary libraries \n",
    "\n",
    "import cv2\n",
    "import os\n",
    "import numpy as np\n",
    "from tqdm.notebook import tqdm \n",
    "import re\n",
    "import matplotlib.pyplot as plt"
   ]
  },
  {
   "cell_type": "markdown",
   "id": "b06feb31",
   "metadata": {},
   "source": [
    "### Configuration"
   ]
  },
  {
   "cell_type": "code",
   "execution_count": 6,
   "id": "fc61936b",
   "metadata": {},
   "outputs": [],
   "source": [
    "IMAGE_FOLDER = 'tobeeornottobee_train_v2/train' \n",
    "MASK_FOLDER = 'tobeeornottobee_train_v2/train/masks'  \n",
    "MASK_FILE_EXTENSION = '.tif'\n",
    "EXPECTED_TRAINING_FILES = 250"
   ]
  },
  {
   "cell_type": "markdown",
   "id": "4ef31336",
   "metadata": {},
   "source": [
    "### Dataset Loading"
   ]
  },
  {
   "cell_type": "code",
   "execution_count": 7,
   "id": "68a4999b",
   "metadata": {},
   "outputs": [
    {
     "name": "stdout",
     "output_type": "stream",
     "text": [
      "Loading the 250 files based on sorted filenames.\n"
     ]
    },
    {
     "data": {
      "application/vnd.jupyter.widget-view+json": {
       "model_id": "de3b007500eb461c9da4b0bbe6f0043f",
       "version_major": 2,
       "version_minor": 0
      },
      "text/plain": [
       "Processing Files:   0%|          | 0/250 [00:00<?, ?it/s]"
      ]
     },
     "metadata": {},
     "output_type": "display_data"
    },
    {
     "name": "stdout",
     "output_type": "stream",
     "text": [
      "  Warning: Could not read mask file: 'tobeeornottobee_train_v2/train/masks\\binary_154.tif'. Skipping this pair.\n",
      "\n",
      "Finished loading. Successfully loaded 249 image/mask pairs.\n"
     ]
    }
   ],
   "source": [
    "training_data = [] # we will store each image and its mask identified by a unique ID (seq(0,250))\n",
    "\n",
    "try:\n",
    "    # list the files in IMAGE_FOLDER.\n",
    "    all_files_in_image_folder = os.listdir(IMAGE_FOLDER)\n",
    "\n",
    "    # keep only the .jpg files (filter out the /mask folder)\n",
    "    image_filenames = [f for f in all_files_in_image_folder if f.lower().endswith('.jpg')]\n",
    "\n",
    "    # sort the filenames numerically \n",
    "    # since our files aren't formatted such as 001, 002 if we keep them this way 100 will be before 2 \n",
    "    def sort_key(filename):\n",
    "        match = re.match(r'(\\d+)\\.jpg', filename, re.IGNORECASE) # find number (digits) before the extension\n",
    "        return int(match.group(1))\n",
    "    image_filenames.sort(key=sort_key)\n",
    "\n",
    "    # make sure we have 250 files loaded so far\n",
    "    files_to_load = image_filenames[:EXPECTED_TRAINING_FILES]\n",
    "    if len(files_to_load) < EXPECTED_TRAINING_FILES:\n",
    "         print(f\"Warning: Loading {len(files_to_load)} files.\")\n",
    "    else:\n",
    "         print(f\"Loading the {len(files_to_load)} files based on sorted filenames.\")\n",
    "\n",
    "    for img_filename in tqdm(files_to_load, desc=\"Processing Files\"):\n",
    "\n",
    "        # getting the name that will serve as ID as well\n",
    "        image_id = os.path.splitext(img_filename)[0]\n",
    "\n",
    "        # creating full path to the image file\n",
    "        image_path = os.path.join(IMAGE_FOLDER, img_filename)\n",
    "\n",
    "        # finding expected filename for the corresponding mask.\n",
    "        mask_filename = \"binary_\" + image_id + MASK_FILE_EXTENSION # e.g., \"binary_1.tif\"\n",
    "        # creating full path to the mask file\n",
    "        mask_path = os.path.join(MASK_FOLDER, mask_filename)\n",
    "        \n",
    "        # load the image using OpenCV (BGR format by default in OpenCV)\n",
    "        image = cv2.imread(image_path)\n",
    "        if image is None:\n",
    "            print(f\"  Warning: Could not read image file: '{image_path}'. Skipping this pair.\") # check if loading works\n",
    "            continue \n",
    "\n",
    "        # load the mask as Grayscale (single channel) using OpenCV\n",
    "        mask = cv2.imread(mask_path, cv2.IMREAD_GRAYSCALE)\n",
    "        if mask is None:\n",
    "            print(f\"  Warning: Could not read mask file: '{mask_path}'. Skipping this pair.\") # check if loading worked.\n",
    "            continue\n",
    "\n",
    "        # finallt, store the loaded data in our list.\n",
    "        data_item = {\n",
    "            'id': image_id,        # The identifier (e.g., '1', '123')\n",
    "            'image': image,        # The loaded image \n",
    "            'mask': mask           # The loaded mask (corresponding to the image)\n",
    "        }\n",
    "        training_data.append(data_item)\n",
    "\n",
    "    print(f\"\\nFinished loading. Successfully loaded {len(training_data)} image/mask pairs.\")\n",
    "\n",
    "except FileNotFoundError:\n",
    "    print(\"Please double-check the paths\")\n",
    "    training_data = [] # Ensure data list is empty if loading failed\n",
    "except Exception as e:\n",
    "    print(\"An unexpected error occurred\")\n",
    "    print(e)\n",
    "    training_data = []"
   ]
  },
  {
   "cell_type": "markdown",
   "id": "50c1caf9",
   "metadata": {},
   "source": [
    "### Feature Extraction"
   ]
  },
  {
   "cell_type": "code",
   "execution_count": null,
   "id": "bf01b6fb",
   "metadata": {},
   "outputs": [],
   "source": []
  }
 ],
 "metadata": {
  "kernelspec": {
   "display_name": "Python 3 (ipykernel)",
   "language": "python",
   "name": "python3"
  },
  "language_info": {
   "codemirror_mode": {
    "name": "ipython",
    "version": 3
   },
   "file_extension": ".py",
   "mimetype": "text/x-python",
   "name": "python",
   "nbconvert_exporter": "python",
   "pygments_lexer": "ipython3",
   "version": "3.11.5"
  }
 },
 "nbformat": 4,
 "nbformat_minor": 5
}
